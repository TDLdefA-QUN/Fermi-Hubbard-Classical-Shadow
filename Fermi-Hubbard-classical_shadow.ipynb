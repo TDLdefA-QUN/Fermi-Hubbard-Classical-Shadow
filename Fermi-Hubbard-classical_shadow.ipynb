{
 "cells": [
  {
   "cell_type": "code",
   "execution_count": 1,
   "metadata": {
    "ExecuteTime": {
     "end_time": "2023-06-15T10:58:59.491512839Z",
     "start_time": "2023-06-15T10:58:53.703382293Z"
    }
   },
   "outputs": [],
   "source": [
    "from math import pi\n",
    "\n",
    "import numpy as np\n",
    "import rustworkx as rx\n",
    "from qiskit_nature.second_q.hamiltonians.lattices import (\n",
    "    BoundaryCondition,\n",
    "    HyperCubicLattice,\n",
    "    Lattice,\n",
    "    LatticeDrawStyle,\n",
    "    LineLattice,\n",
    "    SquareLattice,\n",
    "    TriangularLattice,\n",
    ")\n",
    "from qiskit_nature.second_q.hamiltonians import FermiHubbardModel"
   ]
  },
  {
   "cell_type": "markdown",
   "metadata": {},
   "source": [
    "## The Fermi-Hubbard model\n",
    "The Fermi-Hubbard model is the simplest model describing electrons moving on a lattice and interaction with each other at the same site.\n",
    "The Hamiltonian is given as follows:"
   ]
  },
  {
   "cell_type": "markdown",
   "metadata": {},
   "source": [
    "$$\n",
    "H = \\sum_{i, j}\\sum_{\\sigma = \\uparrow, \\downarrow} t_{i, j} c_{i, \\sigma}^\\dagger c_{j, \\sigma} + U \\sum_{i} n_{i, \\uparrow} n_{i, \\downarrow},\n",
    "$$"
   ]
  },
  {
   "cell_type": "markdown",
   "metadata": {},
   "source": [
    "where $c_{i, \\sigma}^\\dagger$ and $c_{i, \\sigma}$ are creation and annihilation operators of fermion at the site $i$ with spin $\\sigma$.\n",
    "The operator $n_{i, \\sigma}$ is the number operator, which is defined by $n_{i, \\sigma} = c_{i, \\sigma}^\\dagger c_{i, \\sigma}$. \n",
    "The matrix $t_{i, j}$ is a Hermitian matrix called interaction matrix.\n",
    "The parameter $U$ represents the strength of the interaction."
   ]
  },
  {
   "cell_type": "markdown",
   "metadata": {},
   "source": [
    "We can generate the corresponding Hamiltonian of a given lattice using `FermiHubbardModel` class.\n",
    "Here, we construct the Hamiltonian with uniform interaction and interaction parameters on a two-dimensional lattice."
   ]
  },
  {
   "cell_type": "code",
   "execution_count": 2,
   "metadata": {
    "ExecuteTime": {
     "end_time": "2023-06-15T10:58:59.540870577Z",
     "start_time": "2023-06-15T10:58:59.509118736Z"
    }
   },
   "outputs": [],
   "source": [
    "square_lattice = SquareLattice(rows=5, cols=4, boundary_condition=BoundaryCondition.PERIODIC)\n",
    "\n",
    "t = -1.0  # the interaction parameter\n",
    "v = 0.0  # the onsite potential\n",
    "u = 5.0  # the interaction parameter U\n",
    "\n",
    "fhm = FermiHubbardModel(\n",
    "    square_lattice.uniform_parameters(\n",
    "        uniform_interaction=t,\n",
    "        uniform_onsite_potential=v,\n",
    "    ),\n",
    "    onsite_interaction=u,\n",
    ")"
   ]
  },
  {
   "cell_type": "markdown",
   "metadata": {},
   "source": [
    "To obtain the Hamiltonian in terms of the fermionic operators, we use `second_q_ops` method.\n",
    "The Hamiltonian is returned as an instance of `FermionicOp`."
   ]
  },
  {
   "cell_type": "markdown",
   "metadata": {},
   "source": [
    "- Note\n",
    "    - The number of fermionic operators required is twice the number of lattice sites because of the spin degrees of freedom.\n",
    "    - In the implementation, even indexes correspond to up-spin and odd indexes to down-spin."
   ]
  },
  {
   "cell_type": "code",
   "execution_count": 3,
   "metadata": {
    "ExecuteTime": {
     "end_time": "2023-06-15T10:58:59.557923159Z",
     "start_time": "2023-06-15T10:58:59.521836515Z"
    }
   },
   "outputs": [
    {
     "name": "stdout",
     "output_type": "stream",
     "text": [
      "Fermionic Operator\n",
      "number spin orbitals=40, number terms=180\n",
      "  (-1+0j) * ( +_0 -_2 )\n",
      "+ (1+0j) * ( -_0 +_2 )\n",
      "+ (-1+0j) * ( +_0 -_10 )\n",
      "+ (1+0j) * ( -_0 +_10 )\n",
      "+ (-1+0j) * ( +_10 -_12 )\n",
      "+ (1+0j) * ( -_10 +_12 )\n",
      "+ (-1+0j) * ( +_10 -_20 )\n",
      "+ (1+0j) * ( -_10 +_20 )\n",
      "+ (-1+0j) * ( +_20 -_22 )\n",
      "+ (1+0j) * ( -_20 +_22 )\n",
      "+ (-1+0j) * ( +_20 -_30 )\n",
      "+ (1+0j) * ( -_20 +_30 )\n",
      "+ (-1+0j) * ( +_30 -_32 )\n",
      "+ (1+0j) * ( -_30 +_32 )\n",
      "+ (-1+0j) * ( +_2 -_4 )\n",
      "+ (1+0j) * ( -_2 +_4 )\n",
      "+ (-1+0j) * ( +_2 -_12 )\n",
      "+ (1+0j) * ( -_2 +_12 )\n",
      "+ (-1+0j) * ( +_12 -_14 )\n",
      "+ (1+0j) * ( -_12 +_14 )\n",
      "+ (-1+0j) * ( +_12 -_22 )\n",
      "+ (1+0j) * ( -_12 +_22 )\n",
      "+ (-1+0j) * ( +_22 -_24 )\n",
      "+ (1+0j) * ( -_22 +_24 )\n",
      "+ (-1+0j) * ( +_22 -_32 )\n",
      "+ (1+0j) * ( -_22 +_32 )\n",
      "+ (-1+0j) * ( +_32 -_34 )\n",
      "+ (1+0j) * ( -_32 +_34 )\n",
      "+ (-1+0j) * ( +_4 -_6 )\n",
      "+ (1+0j) * ( -_4 +_6 )\n",
      "+ (-1+0j) * ( +_4 -_14 )\n",
      "+ (1+0j) * ( -_4 +_14 )\n",
      "+ (-1+0j) * ( +_14 -_16 )\n",
      "+ (1+0j) * ( -_14 +_16 )\n",
      "+ (-1+0j) * ( +_14 -_24 )\n",
      "+ (1+0j) * ( -_14 +_24 )\n",
      "+ (-1+0j) * ( +_24 -_26 )\n",
      "+ (1+0j) * ( -_24 +_26 )\n",
      "+ (-1+0j) * ( +_24 -_34 )\n",
      "+ (1+0j) * ( -_24 +_34 )\n",
      "+ (-1+0j) * ( +_34 -_36 )\n",
      "+ (1+0j) * ( -_34 +_36 )\n",
      "+ (-1+0j) * ( +_6 -_8 )\n",
      "+ (1+0j) * ( -_6 +_8 )\n",
      "+ (-1+0j) * ( +_6 -_16 )\n",
      "+ (1+0j) * ( -_6 +_16 )\n",
      "+ (-1+0j) * ( +_16 -_18 )\n",
      "+ (1+0j) * ( -_16 +_18 )\n",
      "+ (-1+0j) * ( +_16 -_26 )\n",
      "+ (1+0j) * ( -_16 +_26 )\n",
      "+ (-1+0j) * ( +_26 -_28 )\n",
      "+ (1+0j) * ( -_26 +_28 )\n",
      "+ (-1+0j) * ( +_26 -_36 )\n",
      "+ (1+0j) * ( -_26 +_36 )\n",
      "+ (-1+0j) * ( +_36 -_38 )\n",
      "+ (1+0j) * ( -_36 +_38 )\n",
      "+ (-1+0j) * ( +_8 -_18 )\n",
      "+ (1+0j) * ( -_8 +_18 )\n",
      "+ (-1+0j) * ( +_18 -_28 )\n",
      "+ (1+0j) * ( -_18 +_28 )\n",
      "+ (-1+0j) * ( +_28 -_38 )\n",
      "+ (1+0j) * ( -_28 +_38 )\n",
      "+ (-1+0j) * ( +_0 -_8 )\n",
      "+ (1+0j) * ( -_0 +_8 )\n",
      "+ (-1+0j) * ( +_10 -_18 )\n",
      "+ (1+0j) * ( -_10 +_18 )\n",
      "+ (-1+0j) * ( +_20 -_28 )\n",
      "+ (1+0j) * ( -_20 +_28 )\n",
      "+ (-1+0j) * ( +_30 -_38 )\n",
      "+ (1+0j) * ( -_30 +_38 )\n",
      "+ (-1+0j) * ( +_0 -_30 )\n",
      "+ (1+0j) * ( -_0 +_30 )\n",
      "+ (-1+0j) * ( +_2 -_32 )\n",
      "+ (1+0j) * ( -_2 +_32 )\n",
      "+ (-1+0j) * ( +_4 -_34 )\n",
      "+ (1+0j) * ( -_4 +_34 )\n",
      "+ (-1+0j) * ( +_6 -_36 )\n",
      "+ (1+0j) * ( -_6 +_36 )\n",
      "+ (-1+0j) * ( +_8 -_38 )\n",
      "+ (1+0j) * ( -_8 +_38 )\n",
      "+ (-1+0j) * ( +_1 -_3 )\n",
      "+ (1+0j) * ( -_1 +_3 )\n",
      "+ (-1+0j) * ( +_1 -_11 )\n",
      "+ (1+0j) * ( -_1 +_11 )\n",
      "+ (-1+0j) * ( +_11 -_13 )\n",
      "+ (1+0j) * ( -_11 +_13 )\n",
      "+ (-1+0j) * ( +_11 -_21 )\n",
      "+ (1+0j) * ( -_11 +_21 )\n",
      "+ (-1+0j) * ( +_21 -_23 )\n",
      "+ (1+0j) * ( -_21 +_23 )\n",
      "+ (-1+0j) * ( +_21 -_31 )\n",
      "+ (1+0j) * ( -_21 +_31 )\n",
      "+ (-1+0j) * ( +_31 -_33 )\n",
      "+ (1+0j) * ( -_31 +_33 )\n",
      "+ (-1+0j) * ( +_3 -_5 )\n",
      "+ (1+0j) * ( -_3 +_5 )\n",
      "+ (-1+0j) * ( +_3 -_13 )\n",
      "+ (1+0j) * ( -_3 +_13 )\n",
      "+ (-1+0j) * ( +_13 -_15 )\n",
      "+ (1+0j) * ( -_13 +_15 )\n",
      "+ (-1+0j) * ( +_13 -_23 )\n",
      "+ (1+0j) * ( -_13 +_23 )\n",
      "+ (-1+0j) * ( +_23 -_25 )\n",
      "+ (1+0j) * ( -_23 +_25 )\n",
      "+ (-1+0j) * ( +_23 -_33 )\n",
      "+ (1+0j) * ( -_23 +_33 )\n",
      "+ (-1+0j) * ( +_33 -_35 )\n",
      "+ (1+0j) * ( -_33 +_35 )\n",
      "+ (-1+0j) * ( +_5 -_7 )\n",
      "+ (1+0j) * ( -_5 +_7 )\n",
      "+ (-1+0j) * ( +_5 -_15 )\n",
      "+ (1+0j) * ( -_5 +_15 )\n",
      "+ (-1+0j) * ( +_15 -_17 )\n",
      "+ (1+0j) * ( -_15 +_17 )\n",
      "+ (-1+0j) * ( +_15 -_25 )\n",
      "+ (1+0j) * ( -_15 +_25 )\n",
      "+ (-1+0j) * ( +_25 -_27 )\n",
      "+ (1+0j) * ( -_25 +_27 )\n",
      "+ (-1+0j) * ( +_25 -_35 )\n",
      "+ (1+0j) * ( -_25 +_35 )\n",
      "+ (-1+0j) * ( +_35 -_37 )\n",
      "+ (1+0j) * ( -_35 +_37 )\n",
      "+ (-1+0j) * ( +_7 -_9 )\n",
      "+ (1+0j) * ( -_7 +_9 )\n",
      "+ (-1+0j) * ( +_7 -_17 )\n",
      "+ (1+0j) * ( -_7 +_17 )\n",
      "+ (-1+0j) * ( +_17 -_19 )\n",
      "+ (1+0j) * ( -_17 +_19 )\n",
      "+ (-1+0j) * ( +_17 -_27 )\n",
      "+ (1+0j) * ( -_17 +_27 )\n",
      "+ (-1+0j) * ( +_27 -_29 )\n",
      "+ (1+0j) * ( -_27 +_29 )\n",
      "+ (-1+0j) * ( +_27 -_37 )\n",
      "+ (1+0j) * ( -_27 +_37 )\n",
      "+ (-1+0j) * ( +_37 -_39 )\n",
      "+ (1+0j) * ( -_37 +_39 )\n",
      "+ (-1+0j) * ( +_9 -_19 )\n",
      "+ (1+0j) * ( -_9 +_19 )\n",
      "+ (-1+0j) * ( +_19 -_29 )\n",
      "+ (1+0j) * ( -_19 +_29 )\n",
      "+ (-1+0j) * ( +_29 -_39 )\n",
      "+ (1+0j) * ( -_29 +_39 )\n",
      "+ (-1+0j) * ( +_1 -_9 )\n",
      "+ (1+0j) * ( -_1 +_9 )\n",
      "+ (-1+0j) * ( +_11 -_19 )\n",
      "+ (1+0j) * ( -_11 +_19 )\n",
      "+ (-1+0j) * ( +_21 -_29 )\n",
      "+ (1+0j) * ( -_21 +_29 )\n",
      "+ (-1+0j) * ( +_31 -_39 )\n",
      "+ (1+0j) * ( -_31 +_39 )\n",
      "+ (-1+0j) * ( +_1 -_31 )\n",
      "+ (1+0j) * ( -_1 +_31 )\n",
      "+ (-1+0j) * ( +_3 -_33 )\n",
      "+ (1+0j) * ( -_3 +_33 )\n",
      "+ (-1+0j) * ( +_5 -_35 )\n",
      "+ (1+0j) * ( -_5 +_35 )\n",
      "+ (-1+0j) * ( +_7 -_37 )\n",
      "+ (1+0j) * ( -_7 +_37 )\n",
      "+ (-1+0j) * ( +_9 -_39 )\n",
      "+ (1+0j) * ( -_9 +_39 )\n",
      "+ (5+0j) * ( +_0 -_0 +_1 -_1 )\n",
      "+ (5+0j) * ( +_2 -_2 +_3 -_3 )\n",
      "+ (5+0j) * ( +_4 -_4 +_5 -_5 )\n",
      "+ (5+0j) * ( +_6 -_6 +_7 -_7 )\n",
      "+ (5+0j) * ( +_8 -_8 +_9 -_9 )\n",
      "+ (5+0j) * ( +_10 -_10 +_11 -_11 )\n",
      "+ (5+0j) * ( +_12 -_12 +_13 -_13 )\n",
      "+ (5+0j) * ( +_14 -_14 +_15 -_15 )\n",
      "+ (5+0j) * ( +_16 -_16 +_17 -_17 )\n",
      "+ (5+0j) * ( +_18 -_18 +_19 -_19 )\n",
      "+ (5+0j) * ( +_20 -_20 +_21 -_21 )\n",
      "+ (5+0j) * ( +_22 -_22 +_23 -_23 )\n",
      "+ (5+0j) * ( +_24 -_24 +_25 -_25 )\n",
      "+ (5+0j) * ( +_26 -_26 +_27 -_27 )\n",
      "+ (5+0j) * ( +_28 -_28 +_29 -_29 )\n",
      "+ (5+0j) * ( +_30 -_30 +_31 -_31 )\n",
      "+ (5+0j) * ( +_32 -_32 +_33 -_33 )\n",
      "+ (5+0j) * ( +_34 -_34 +_35 -_35 )\n",
      "+ (5+0j) * ( +_36 -_36 +_37 -_37 )\n",
      "+ (5+0j) * ( +_38 -_38 +_39 -_39 )\n"
     ]
    }
   ],
   "source": [
    "ham = fhm.second_q_op().simplify()\n",
    "print(ham)"
   ]
  },
  {
   "cell_type": "markdown",
   "metadata": {},
   "source": [
    "`Lattice` has weights on its edges, so we can define a general interaction matrix using a Lattice instance.\n",
    "Here, we consider the Fermi-Hubbard model on a general lattice on which non-uniform interaction parameters are given.\n",
    "In this case, the weights of the lattice are regarded as the interaction matrix. After generating the Hamiltonian (`second_q_ops`) we can use a qubit mapper to generate the qubit operators and/or use any of the available algorithms to solver the corresponding lattice problem."
   ]
  },
  {
   "cell_type": "code",
   "execution_count": 4,
   "metadata": {
    "ExecuteTime": {
     "end_time": "2023-06-15T10:58:59.654226496Z",
     "start_time": "2023-06-15T10:58:59.569173919Z"
    }
   },
   "outputs": [
    {
     "name": "stdout",
     "output_type": "stream",
     "text": [
      "Fermionic Operator\n",
      "number spin orbitals=12, number terms=28\n",
      "  (1+1j) * ( +_0 -_2 )\n",
      "+ (-1+1j) * ( -_0 +_2 )\n",
      "+ (-1+0j) * ( +_0 -_4 )\n",
      "+ (1+0j) * ( -_0 +_4 )\n",
      "+ (2+0j) * ( +_4 -_6 )\n",
      "+ (-2+0j) * ( -_4 +_6 )\n",
      "+ (-1-2j) * ( +_4 -_8 )\n",
      "+ (1-2j) * ( -_4 +_8 )\n",
      "+ (3+0j) * ( +_8 -_8 )\n",
      "+ (-1+0j) * ( +_4 -_10 )\n",
      "+ (1+0j) * ( -_4 +_10 )\n",
      "+ (1+1j) * ( +_1 -_3 )\n",
      "+ (-1+1j) * ( -_1 +_3 )\n",
      "+ (-1+0j) * ( +_1 -_5 )\n",
      "+ (1+0j) * ( -_1 +_5 )\n",
      "+ (2+0j) * ( +_5 -_7 )\n",
      "+ (-2+0j) * ( -_5 +_7 )\n",
      "+ (-1-2j) * ( +_5 -_9 )\n",
      "+ (1-2j) * ( -_5 +_9 )\n",
      "+ (3+0j) * ( +_9 -_9 )\n",
      "+ (-1+0j) * ( +_5 -_11 )\n",
      "+ (1+0j) * ( -_5 +_11 )\n",
      "+ (5+0j) * ( +_0 -_0 +_1 -_1 )\n",
      "+ (5+0j) * ( +_2 -_2 +_3 -_3 )\n",
      "+ (5+0j) * ( +_4 -_4 +_5 -_5 )\n",
      "+ (5+0j) * ( +_6 -_6 +_7 -_7 )\n",
      "+ (5+0j) * ( +_8 -_8 +_9 -_9 )\n",
      "+ (5+0j) * ( +_10 -_10 +_11 -_11 )\n"
     ]
    }
   ],
   "source": [
    "graph = rx.PyGraph(multigraph=False)  # multiigraph shoud be False\n",
    "graph.add_nodes_from(range(6))\n",
    "weighted_edge_list = [\n",
    "    (0, 1, 1.0 + 1.0j),\n",
    "    (0, 2, -1.0),\n",
    "    (2, 3, 2.0),\n",
    "    (4, 2, -1.0 + 2.0j),\n",
    "    (4, 4, 3.0),\n",
    "    (2, 5, -1.0),\n",
    "]\n",
    "graph.add_edges_from(weighted_edge_list)\n",
    "\n",
    "general_lattice = Lattice(graph)  # the lattice whose weights are seen as the interaction matrix.\n",
    "u = 5.0  # the interaction parameter U\n",
    "\n",
    "fhm = FermiHubbardModel(lattice=general_lattice, onsite_interaction=u)\n",
    "\n",
    "ham = fhm.second_q_op().simplify()\n",
    "print(ham)"
   ]
  },
  {
   "cell_type": "markdown",
   "metadata": {},
   "source": [
    "## LatticeModelProblem\n",
    "Qiskit Nature also has a `LatticeModelProblem` class which allows the usage of the `GroundStateEigensolver` to calculate the ground state energy of a given lattice. You can use this class as follows:"
   ]
  },
  {
   "cell_type": "code",
   "execution_count": 5,
   "metadata": {
    "ExecuteTime": {
     "end_time": "2023-06-15T10:58:59.717929221Z",
     "start_time": "2023-06-15T10:58:59.581880862Z"
    }
   },
   "outputs": [],
   "source": [
    "from qiskit_nature.second_q.problems import LatticeModelProblem\n",
    "\n",
    "num_nodes = 4\n",
    "boundary_condition = BoundaryCondition.OPEN\n",
    "line_lattice = LineLattice(num_nodes=num_nodes, boundary_condition=boundary_condition)\n",
    "\n",
    "fhm = FermiHubbardModel(\n",
    "    line_lattice.uniform_parameters(\n",
    "        uniform_interaction=t,\n",
    "        uniform_onsite_potential=v,\n",
    "    ),\n",
    "    onsite_interaction=u,\n",
    ")\n",
    "\n",
    "lmp = LatticeModelProblem(fhm)"
   ]
  },
  {
   "cell_type": "code",
   "execution_count": 6,
   "metadata": {
    "ExecuteTime": {
     "end_time": "2023-06-15T10:59:00.075792840Z",
     "start_time": "2023-06-15T10:58:59.669598034Z"
    }
   },
   "outputs": [
    {
     "name": "stderr",
     "output_type": "stream",
     "text": [
      "/home/ozlemba/miniconda3/envs/qml/lib/python3.10/site-packages/qiskit_nature/deprecation.py:297: PauliSumOpDeprecationWarning: PauliSumOp is deprecated as of version 0.6.0 and support for them will be removed no sooner than 3 months after the release. Instead, use SparsePauliOp. You can switch to SparsePauliOp immediately, by setting `qiskit_nature.settings.use_pauli_sum_op` to `False`.\n",
      "  return func(*args, **kwargs)\n"
     ]
    },
    {
     "name": "stdout",
     "output_type": "stream",
     "text": [
      "=== GROUND STATE ===\n",
      " \n",
      "* Lattice ground state energy : -2.566350190841\n"
     ]
    }
   ],
   "source": [
    "from qiskit.algorithms.minimum_eigensolvers import NumPyMinimumEigensolver\n",
    "from qiskit_nature.second_q.algorithms import GroundStateEigensolver\n",
    "from qiskit_nature.second_q.mappers import JordanWignerMapper\n",
    "\n",
    "numpy_solver = NumPyMinimumEigensolver()\n",
    "\n",
    "qubit_mapper = JordanWignerMapper()\n",
    "\n",
    "calc = GroundStateEigensolver(qubit_mapper, numpy_solver)\n",
    "res = calc.solve(lmp)\n",
    "\n",
    "print(res)"
   ]
  },
  {
   "cell_type": "code",
   "execution_count": null,
   "outputs": [],
   "source": [],
   "metadata": {
    "collapsed": false
   }
  }
 ],
 "metadata": {
  "kernelspec": {
   "display_name": "Python 3",
   "language": "python",
   "name": "python3"
  },
  "language_info": {
   "codemirror_mode": {
    "name": "ipython",
    "version": 3
   },
   "file_extension": ".py",
   "mimetype": "text/x-python",
   "name": "python",
   "nbconvert_exporter": "python",
   "pygments_lexer": "ipython3",
   "version": "3.9.16"
  },
  "vscode": {
   "interpreter": {
    "hash": "d4bd6456a0b47d0dd87b9ae107645ad9bf4ec16d9647d052356a2dc29fff80e1"
   }
  }
 },
 "nbformat": 4,
 "nbformat_minor": 4
}
