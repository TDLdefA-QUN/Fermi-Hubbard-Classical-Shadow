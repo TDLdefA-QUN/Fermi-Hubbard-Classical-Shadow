{
 "cells": [
  {
   "cell_type": "code",
   "execution_count": 1,
   "metadata": {
    "ExecuteTime": {
     "end_time": "2023-06-20T13:57:29.502868343Z",
     "start_time": "2023-06-20T13:57:28.730998121Z"
    }
   },
   "outputs": [],
   "source": [
    "from qiskit_nature.second_q.hamiltonians import FermiHubbardModel\n",
    "from qiskit_nature.second_q.hamiltonians.lattices import (\n",
    "    BoundaryCondition,\n",
    "    HyperCubicLattice,\n",
    "    SquareLattice,\n",
    ")\n",
    "from qiskit_nature.second_q.mappers import JordanWignerMapper\n",
    "from qiskit_nature.second_q.problems import LatticeModelProblem\n",
    "from qiskit.algorithms import NumPyMinimumEigensolver\n",
    "from qiskit.opflow import PauliSumOp\n",
    "from qiskit_nature.settings import QiskitNatureSettings\n",
    "from qiskit.circuit.library import TwoLocal\n",
    "from qiskit.algorithms.optimizers import SPSA\n",
    "from qiskit.utils import algorithm_globals\n",
    "from qiskit_aer.primitives import Estimator as AerEstimator\n",
    "from qiskit.algorithms.minimum_eigensolvers import VQE\n",
    "from qiskit.algorithms.optimizers import Optimizer, OptimizerResult, OptimizerState\n",
    "import psutil"
   ]
  },
  {
   "cell_type": "markdown",
   "metadata": {},
   "source": [
    "## The Fermi-Hubbard model\n",
    "The Fermi-Hubbard model is the simplest model describing electrons moving on a lattice and interaction with each other at the same site.\n",
    "The Hamiltonian is given as follows:"
   ]
  },
  {
   "cell_type": "markdown",
   "metadata": {},
   "source": [
    "$$\n",
    "H = \\sum_{i, j}\\sum_{\\sigma = \\uparrow, \\downarrow} t_{i, j} c_{i, \\sigma}^\\dagger c_{j, \\sigma} + U \\sum_{i} n_{i, \\uparrow} n_{i, \\downarrow},\n",
    "$$"
   ]
  },
  {
   "cell_type": "markdown",
   "metadata": {},
   "source": [
    "where $c_{i, \\sigma}^\\dagger$ and $c_{i, \\sigma}$ are creation and annihilation operators of fermion at the site $i$ with spin $\\sigma$.\n",
    "The operator $n_{i, \\sigma}$ is the number operator, which is defined by $n_{i, \\sigma} = c_{i, \\sigma}^\\dagger c_{i, \\sigma}$. \n",
    "The matrix $t_{i, j}$ is a Hermitian matrix called interaction matrix.\n",
    "The parameter $U$ represents the strength of the interaction."
   ]
  },
  {
   "cell_type": "markdown",
   "metadata": {},
   "source": [
    "We can generate the corresponding Hamiltonian of a given lattice using `FermiHubbardModel` class.\n",
    "Here, we construct the Hamiltonian with uniform interaction and interaction parameters on a two-dimensional lattice."
   ]
  },
  {
   "cell_type": "code",
   "execution_count": null,
   "metadata": {},
   "outputs": [],
   "source": [
    "t = -1.0  # the interaction parameter\n",
    "v = 0.0  # the onsite potential\n",
    "u = 5.0\n",
    "\n",
    "###\n",
    "### Second Quantized Hamiltonian (Fermi-Hubbard model)\n",
    "###\n",
    "square_lattice = SquareLattice(rows=3, cols=2, boundary_condition=BoundaryCondition.PERIODIC)\n",
    "\n",
    "fhm_square = FermiHubbardModel(\n",
    "    square_lattice.uniform_parameters(\n",
    "        uniform_interaction=t,\n",
    "        uniform_onsite_potential=v,\n",
    "    ),\n",
    "    onsite_interaction=u,\n",
    ")\n",
    "\n",
    "size = (2, 2, 2)\n",
    "boundary_condition = (\n",
    "    BoundaryCondition.PERIODIC,\n",
    "    BoundaryCondition.PERIODIC,\n",
    "    BoundaryCondition.PERIODIC,\n",
    ")\n",
    "cubic_lattice = HyperCubicLattice(size=size, boundary_condition=boundary_condition)\n",
    "\n",
    "QiskitNatureSettings.use_pauli_sum_op = False\n",
    "\n",
    "fhm_cubic = FermiHubbardModel(\n",
    "    cubic_lattice.uniform_parameters(\n",
    "        uniform_interaction=t,\n",
    "        uniform_onsite_potential=v,\n",
    "    ),\n",
    "    onsite_interaction=u,\n",
    ")\n",
    "\n",
    "ham = fhm_cubic.second_q_op()\n",
    "print(ham)"
   ]
  },
  {
   "cell_type": "markdown",
   "metadata": {},
   "source": [
    "To obtain the Hamiltonian in terms of the fermionic operators, we use `second_q_ops` method.\n",
    "The Hamiltonian is returned as an instance of `FermionicOp`."
   ]
  },
  {
   "cell_type": "markdown",
   "metadata": {},
   "source": [
    "- Note\n",
    "    - The number of fermionic operators required is twice the number of lattice sites because of the spin degrees of freedom.\n",
    "    - In the implementation, even indexes correspond to up-spin and odd indexes to down-spin."
   ]
  },
  {
   "cell_type": "code",
   "execution_count": null,
   "metadata": {},
   "outputs": [],
   "source": [
    "ham = fhm_cubic.second_q_op().simplify()\n",
    "print(ham)"
   ]
  },
  {
   "cell_type": "markdown",
   "source": [
    "Now we embed the Hamiltonian to the Quantum Computer"
   ],
   "metadata": {
    "collapsed": false
   }
  },
  {
   "cell_type": "code",
   "execution_count": null,
   "outputs": [],
   "source": [
    "lmp = LatticeModelProblem(fhm_cubic)\n",
    "\n",
    "hamiltonian_jw = JordanWignerMapper().map(ham)\n",
    "# print(np.count_nonzero(hamiltonian_jw - np.diag(np.diagonal(hamiltonian_jw)))\n",
    "print(hamiltonian_jw)"
   ],
   "metadata": {
    "collapsed": false
   }
  },
  {
   "cell_type": "markdown",
   "source": [
    "Classical solver"
   ],
   "metadata": {
    "collapsed": false
   }
  },
  {
   "cell_type": "code",
   "execution_count": null,
   "outputs": [],
   "source": [
    "numpy_solver = NumPyMinimumEigensolver()\n",
    "result = numpy_solver.compute_minimum_eigenvalue(operator=PauliSumOp(hamiltonian_jw))\n",
    "ref_value = result.eigenvalue.real\n",
    "print(f\"Reference value: {ref_value:.5f}\")"
   ],
   "metadata": {
    "collapsed": false
   }
  },
  {
   "cell_type": "markdown",
   "source": [
    "VQE See Peruzzo, A., et al, “A variational eigenvalue solver on a quantum processor” arXiv:1304.3061"
   ],
   "metadata": {
    "collapsed": false
   }
  },
  {
   "cell_type": "code",
   "execution_count": null,
   "outputs": [],
   "source": [
    "iterations = 125\n",
    "ansatz = TwoLocal(rotation_blocks=\"ry\", entanglement_blocks=\"cz\")\n",
    "spsa = SPSA(maxiter=iterations)\n",
    "counts = []\n",
    "values = []\n",
    "\n",
    "\n",
    "def store_intermediate_result(eval_count, parameters, mean, std):\n",
    "    counts.append(eval_count)\n",
    "    values.append(mean)\n",
    "\n",
    "\n",
    "seed = 170\n",
    "algorithm_globals.random_seed = seed\n",
    "\n",
    "noiseless_estimator = AerEstimator(\n",
    "    run_options={\"seed\": seed, \"shots\": 1024},\n",
    "    transpile_options={\"seed_transpiler\": seed},\n",
    "    backend_options={\"method\": \"automatic\"}\n",
    "\n",
    ")\n",
    "\n",
    "vqe = VQE(\n",
    "    noiseless_estimator, ansatz, optimizer=spsa, callback=store_intermediate_result\n",
    ")\n",
    "result = vqe.compute_minimum_eigenvalue(operator=hamiltonian_jw)\n",
    "\n",
    "print(f\"VQE on Aer qasm simulator (no noise): {result.eigenvalue.real:.5f}\")\n",
    "print(\n",
    "    f\"Delta from reference energy value is {(result.eigenvalue.real - ref_value):.5f}\"\n",
    ")\n",
    "import matplotlib.pyplot as plt\n",
    "\n",
    "plt.plot(counts, values)\n",
    "plt.xlabel(\"Eval count\")\n",
    "plt.ylabel(\"Energy\")\n",
    "plt.title(\"Convergence with no noise\")\n",
    "\n",
    "plt.show()"
   ],
   "metadata": {
    "collapsed": false
   }
  },
  {
   "cell_type": "markdown",
   "source": [
    "Reconstruct the state\n"
   ],
   "metadata": {
    "collapsed": false
   }
  },
  {
   "cell_type": "code",
   "execution_count": null,
   "outputs": [],
   "source": [
    "result.optimal_circuit.draw(output='mpl')"
   ],
   "metadata": {
    "collapsed": false
   }
  },
  {
   "cell_type": "markdown",
   "source": [
    "Send the optimized circuit to pennylane"
   ],
   "metadata": {
    "collapsed": false
   }
  },
  {
   "cell_type": "code",
   "execution_count": null,
   "outputs": [],
   "source": [
    "import pennylane as qml\n",
    "import pennylane.numpy as np\n",
    "import matplotlib.pyplot as plt\n",
    "import time"
   ],
   "metadata": {
    "collapsed": false
   }
  },
  {
   "cell_type": "code",
   "execution_count": null,
   "outputs": [],
   "source": [
    "tomography_circuit=qml.from_qiskit(result.optimal_circuit)"
   ],
   "metadata": {
    "collapsed": false
   }
  },
  {
   "cell_type": "markdown",
   "source": [
    "A classical shadow is a collection of $N$ individual snapshots $\\hat \\rho _i$. Each snapshot is obtained with the following procedure:\n",
    "1. The quantum state $\\rho$ is prepared with a circuit.\n",
    "2. A unitary $U$ is randomly selected from the ensemble and applied to $\\rho$\n",
    "3. A computational basis measurement is performed.\n",
    "4. The snapshot is recorded as the observed eigenvalue 1,−1 for $|0⟩$,$|1⟩$, respectively, and the index of the randomly selected unitary $U$\n",
    "\n",
    "To obtain a classical shadow using PennyLane, we design the calculate_classical_shadow function below. This function obtains a classical shadow for the state prepared by an input circuit_template."
   ],
   "metadata": {
    "collapsed": false
   }
  },
  {
   "cell_type": "code",
   "execution_count": null,
   "outputs": [],
   "source": [
    "def calculate_classical_shadow(circuit_template, params, shadow_size, num_qubits):\n",
    "    \"\"\"\n",
    "    Given a circuit, creates a collection of snapshots consisting of a bit string\n",
    "    and the index of a unitary operation.\n",
    "\n",
    "    Args:\n",
    "        circuit_template (function): A Pennylane QNode.\n",
    "        params (array): Circuit parameters.\n",
    "        shadow_size (int): The number of snapshots in the shadow.\n",
    "        num_qubits (int): The number of qubits in the circuit.\n",
    "\n",
    "    Returns:\n",
    "        Tuple of two numpy arrays. The first array contains measurement outcomes (-1, 1)\n",
    "        while the second array contains the index for the sampled Pauli's (0,1,2=X,Y,Z).\n",
    "        Each row of the arrays corresponds to a distinct snapshot or sample while each\n",
    "        column corresponds to a different qubit.\n",
    "    \"\"\"\n",
    "    # applying the single-qubit Clifford circuit is equivalent to measuring a Pauli\n",
    "    unitary_ensemble = [qml.PauliX, qml.PauliY, qml.PauliZ]\n",
    "\n",
    "    # sample random Pauli measurements uniformly, where 0,1,2 = X,Y,Z\n",
    "    unitary_ids = np.random.randint(0, 3, size=(shadow_size, num_qubits))\n",
    "    outcomes = np.zeros((shadow_size, num_qubits))\n",
    "\n",
    "    for ns in range(shadow_size):\n",
    "        # for each snapshot, add a random Pauli observable at each location\n",
    "        obs = [unitary_ensemble[int(unitary_ids[ns, i])](i) for i in range(num_qubits)]\n",
    "        outcomes[ns, :] = circuit_template(params, observable=obs)\n",
    "\n",
    "    # combine the computational basis outcomes and the sampled unitaries\n",
    "    return (outcomes, unitary_ids)\n"
   ],
   "metadata": {
    "collapsed": false
   }
  },
  {
   "cell_type": "markdown",
   "source": [
    "## State Reconstruction from a Classical Shadow\n",
    "Classical shadow approximates the exact state that we want to estimate. We can tomographically reconstruct the original quantum state $\\rho$ from a classical shadow. Remember that we can approximate $\\rho$ by averaging over the snapshots and applying the inverse measurement channel,\n",
    "$$\n",
    "\\rho = \\mathbb{E}\\left[\\mathcal{M}^{-1}(U^{\\dagger}|\\hat{b}\\rangle\\langle\\hat{b}|U)\\right].\n",
    "$$\n",
    "\n",
    "The expectation $\\mathbb{E}[⋅]$ describes the average over the measurement outcomes $|b⟩$ and the sampled unitaries. Inverting the measurement channel may seem formidable at first, however, Huang et al. 2 show that for Pauli measurements we end up with a rather convenient expression,\n",
    "\n",
    "$$\n",
    "\\rho=\\mathbb{E}[\\hat{\\rho}], \\quad \\text{where} \\quad\n",
    "      \\hat{\\rho} = \\bigotimes_{j=1}^n(3U^{\\dagger}_j|\\hat{b}_j\\rangle\\langle\\hat{b}_j|U_j-\\mathbb{I}).\n",
    "$$\n",
    "\n",
    "Here $\\hat\\rho$ is a snapshot state reconstructed from a single sample in the classical shadow, and $\\rho$ is the average over all snapshot states $\\hat \\rho$ in the shadow.\n",
    "\n",
    "To implement the state reconstruction of $\\rho$ in PennyLane, we develop the shadow_state_reconstruction function."
   ],
   "metadata": {
    "collapsed": false
   }
  },
  {
   "cell_type": "code",
   "execution_count": null,
   "outputs": [],
   "source": [
    "def snapshot_state(b_list, obs_list):\n",
    "    \"\"\"\n",
    "    Helper function for `shadow_state_reconstruction` that reconstructs\n",
    "     a state from a single snapshot in a shadow.\n",
    "\n",
    "    Implements Eq. (S44) from https://arxiv.org/pdf/2002.08953.pdf\n",
    "\n",
    "    Args:\n",
    "        b_list (array): The list of classical outcomes for the snapshot.\n",
    "        obs_list (array): Indices for the applied Pauli measurement.\n",
    "\n",
    "    Returns:\n",
    "        Numpy array with the reconstructed snapshot.\n",
    "    \"\"\"\n",
    "    num_qubits = len(b_list)\n",
    "\n",
    "    # computational basis states\n",
    "    zero_state = np.array([[1, 0], [0, 0]])\n",
    "    one_state = np.array([[0, 0], [0, 1]])\n",
    "\n",
    "    # local qubit unitaries\n",
    "    phase_z = np.array([[1, 0], [0, -1j]], dtype=complex)\n",
    "    hadamard = qml.matrix(qml.Hadamard(0))\n",
    "    identity = qml.matrix(qml.Identity(0))\n",
    "\n",
    "    # undo the rotations that were added implicitly to the circuit for the Pauli measurements\n",
    "    unitaries = [hadamard, hadamard @ phase_z, identity]\n",
    "\n",
    "    # reconstructing the snapshot state from local Pauli measurements\n",
    "    rho_snapshot = [1]\n",
    "    for i in range(num_qubits):\n",
    "        state = zero_state if b_list[i] == 1 else one_state\n",
    "        U = unitaries[int(obs_list[i])]\n",
    "\n",
    "        # applying Eq. (S44)\n",
    "        local_rho = 3 * (U.conj().T @ state @ U) - identity\n",
    "        rho_snapshot = np.kron(rho_snapshot, local_rho)\n",
    "\n",
    "    return rho_snapshot\n",
    "\n",
    "\n",
    "def shadow_state_reconstruction(shadow):\n",
    "    \"\"\"\n",
    "    Reconstruct a state approximation as an average over all snapshots in the shadow.\n",
    "\n",
    "    Args:\n",
    "        shadow (tuple): A shadow tuple obtained from `calculate_classical_shadow`.\n",
    "\n",
    "    Returns:\n",
    "        Numpy array with the reconstructed quantum state.\n",
    "    \"\"\"\n",
    "    num_snapshots, num_qubits = shadow[0].shape\n",
    "\n",
    "    # classical values\n",
    "    b_lists, obs_lists = shadow\n",
    "\n",
    "    # Averaging over snapshot states.\n",
    "    shadow_rho = np.zeros((2 ** num_qubits, 2 ** num_qubits), dtype=complex)\n",
    "    for i in range(num_snapshots):\n",
    "        shadow_rho += snapshot_state(b_lists[i], obs_lists[i])\n",
    "\n",
    "    return shadow_rho / num_snapshots\n"
   ],
   "metadata": {
    "collapsed": false
   }
  },
  {
   "cell_type": "markdown",
   "source": [
    "## Reconstruct minimum state\n",
    "\n",
    "Construct a classical shadow consisting of 1000 snapshots"
   ],
   "metadata": {
    "collapsed": false
   }
  },
  {
   "cell_type": "code",
   "execution_count": null,
   "outputs": [],
   "source": [
    "num_snapshots = 1000\n",
    "params = []\n",
    "\n",
    "shadow = calculate_classical_shadow(\n",
    "    tomography_circuit, params, num_snapshots, hamiltonian_jw.num_qubits\n",
    ")\n",
    "print(shadow[0])\n",
    "print(shadow[1])"
   ],
   "metadata": {
    "collapsed": false
   }
  },
  {
   "cell_type": "markdown",
   "source": [
    "To reconstruct the Bell state we use `shadow_state_reconstruction`."
   ],
   "metadata": {
    "collapsed": false
   }
  },
  {
   "cell_type": "code",
   "execution_count": null,
   "outputs": [],
   "source": [
    "shadow_state = shadow_state_reconstruction(shadow)\n",
    "print(np.round(shadow_state, decimals=6))"
   ],
   "metadata": {
    "collapsed": false
   }
  },
  {
   "cell_type": "markdown",
   "source": [
    "Final data"
   ],
   "metadata": {
    "collapsed": false
   }
  },
  {
   "cell_type": "code",
   "execution_count": null,
   "outputs": [],
   "source": [
    "print(f'Number of qubits: {hamiltonian_jw.num_qubits}')\n",
    "\n",
    "print('RAM Used (GB):', psutil.virtual_memory()[3] / 1000000000)"
   ],
   "metadata": {
    "collapsed": false
   }
  }
 ],
 "metadata": {
  "kernelspec": {
   "display_name": "Python 3",
   "language": "python",
   "name": "python3"
  },
  "language_info": {
   "codemirror_mode": {
    "name": "ipython",
    "version": 3
   },
   "file_extension": ".py",
   "mimetype": "text/x-python",
   "name": "python",
   "nbconvert_exporter": "python",
   "pygments_lexer": "ipython3",
   "version": "3.9.16"
  },
  "vscode": {
   "interpreter": {
    "hash": "d4bd6456a0b47d0dd87b9ae107645ad9bf4ec16d9647d052356a2dc29fff80e1"
   }
  }
 },
 "nbformat": 4,
 "nbformat_minor": 4
}
