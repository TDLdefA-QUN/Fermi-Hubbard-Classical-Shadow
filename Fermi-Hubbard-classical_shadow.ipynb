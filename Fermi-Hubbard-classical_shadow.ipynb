{
 "cells": [
  {
   "cell_type": "code",
   "execution_count": 1,
   "metadata": {
    "ExecuteTime": {
     "end_time": "2023-06-20T13:33:59.503617319Z",
     "start_time": "2023-06-20T13:33:58.730963096Z"
    }
   },
   "outputs": [],
   "source": [
    "from qiskit_nature.second_q.hamiltonians import FermiHubbardModel\n",
    "from qiskit_nature.second_q.hamiltonians.lattices import (\n",
    "    BoundaryCondition,\n",
    "    HyperCubicLattice,\n",
    "    SquareLattice,\n",
    ")\n",
    "from qiskit_nature.second_q.mappers import JordanWignerMapper\n",
    "from qiskit_nature.second_q.problems import LatticeModelProblem\n",
    "from qiskit.algorithms import NumPyMinimumEigensolver\n",
    "from qiskit.opflow import PauliSumOp\n",
    "from qiskit_nature.settings import QiskitNatureSettings\n",
    "from qiskit.circuit.library import TwoLocal\n",
    "from qiskit.algorithms.optimizers import SPSA\n",
    "from qiskit.utils import algorithm_globals\n",
    "from qiskit_aer.primitives import Estimator as AerEstimator\n",
    "from qiskit.algorithms.minimum_eigensolvers import VQE\n",
    "from qiskit.algorithms.optimizers import Optimizer, OptimizerResult, OptimizerState\n",
    "import psutil"
   ]
  },
  {
   "cell_type": "markdown",
   "metadata": {},
   "source": [
    "## The Fermi-Hubbard model\n",
    "The Fermi-Hubbard model is the simplest model describing electrons moving on a lattice and interaction with each other at the same site.\n",
    "The Hamiltonian is given as follows:"
   ]
  },
  {
   "cell_type": "markdown",
   "metadata": {},
   "source": [
    "$$\n",
    "H = \\sum_{i, j}\\sum_{\\sigma = \\uparrow, \\downarrow} t_{i, j} c_{i, \\sigma}^\\dagger c_{j, \\sigma} + U \\sum_{i} n_{i, \\uparrow} n_{i, \\downarrow},\n",
    "$$"
   ]
  },
  {
   "cell_type": "markdown",
   "metadata": {},
   "source": [
    "where $c_{i, \\sigma}^\\dagger$ and $c_{i, \\sigma}$ are creation and annihilation operators of fermion at the site $i$ with spin $\\sigma$.\n",
    "The operator $n_{i, \\sigma}$ is the number operator, which is defined by $n_{i, \\sigma} = c_{i, \\sigma}^\\dagger c_{i, \\sigma}$. \n",
    "The matrix $t_{i, j}$ is a Hermitian matrix called interaction matrix.\n",
    "The parameter $U$ represents the strength of the interaction."
   ]
  },
  {
   "cell_type": "markdown",
   "metadata": {},
   "source": [
    "We can generate the corresponding Hamiltonian of a given lattice using `FermiHubbardModel` class.\n",
    "Here, we construct the Hamiltonian with uniform interaction and interaction parameters on a two-dimensional lattice."
   ]
  },
  {
   "cell_type": "code",
   "execution_count": 2,
   "metadata": {
    "ExecuteTime": {
     "end_time": "2023-06-20T13:33:59.511979387Z",
     "start_time": "2023-06-20T13:33:59.506463873Z"
    }
   },
   "outputs": [
    {
     "name": "stdout",
     "output_type": "stream",
     "text": [
      "Fermionic Operator\n",
      "number spin orbitals=16, number terms=72\n",
      "  -1.0 * ( +_0 -_2 )\n",
      "+ 1.0 * ( -_0 +_2 )\n",
      "+ -1.0 * ( +_0 -_4 )\n",
      "+ 1.0 * ( -_0 +_4 )\n",
      "+ -1.0 * ( +_0 -_8 )\n",
      "+ 1.0 * ( -_0 +_8 )\n",
      "+ -1.0 * ( +_8 -_10 )\n",
      "+ 1.0 * ( -_8 +_10 )\n",
      "+ -1.0 * ( +_8 -_12 )\n",
      "+ 1.0 * ( -_8 +_12 )\n",
      "+ -1.0 * ( +_4 -_6 )\n",
      "+ 1.0 * ( -_4 +_6 )\n",
      "+ -1.0 * ( +_4 -_12 )\n",
      "+ 1.0 * ( -_4 +_12 )\n",
      "+ -1.0 * ( +_12 -_14 )\n",
      "+ 1.0 * ( -_12 +_14 )\n",
      "+ -1.0 * ( +_2 -_6 )\n",
      "+ 1.0 * ( -_2 +_6 )\n",
      "+ -1.0 * ( +_2 -_10 )\n",
      "+ 1.0 * ( -_2 +_10 )\n",
      "+ -1.0 * ( +_10 -_14 )\n",
      "+ 1.0 * ( -_10 +_14 )\n",
      "+ -1.0 * ( +_6 -_14 )\n",
      "+ 1.0 * ( -_6 +_14 )\n",
      "+ 0.0 * ( +_0 -_0 )\n",
      "+ 0.0 * ( +_2 -_2 )\n",
      "+ 0.0 * ( +_4 -_4 )\n",
      "+ 0.0 * ( +_6 -_6 )\n",
      "+ 0.0 * ( +_8 -_8 )\n",
      "+ 0.0 * ( +_10 -_10 )\n",
      "+ 0.0 * ( +_12 -_12 )\n",
      "+ 0.0 * ( +_14 -_14 )\n",
      "+ -1.0 * ( +_1 -_3 )\n",
      "+ 1.0 * ( -_1 +_3 )\n",
      "+ -1.0 * ( +_1 -_5 )\n",
      "+ 1.0 * ( -_1 +_5 )\n",
      "+ -1.0 * ( +_1 -_9 )\n",
      "+ 1.0 * ( -_1 +_9 )\n",
      "+ -1.0 * ( +_9 -_11 )\n",
      "+ 1.0 * ( -_9 +_11 )\n",
      "+ -1.0 * ( +_9 -_13 )\n",
      "+ 1.0 * ( -_9 +_13 )\n",
      "+ -1.0 * ( +_5 -_7 )\n",
      "+ 1.0 * ( -_5 +_7 )\n",
      "+ -1.0 * ( +_5 -_13 )\n",
      "+ 1.0 * ( -_5 +_13 )\n",
      "+ -1.0 * ( +_13 -_15 )\n",
      "+ 1.0 * ( -_13 +_15 )\n",
      "+ -1.0 * ( +_3 -_7 )\n",
      "+ 1.0 * ( -_3 +_7 )\n",
      "+ -1.0 * ( +_3 -_11 )\n",
      "+ 1.0 * ( -_3 +_11 )\n",
      "+ -1.0 * ( +_11 -_15 )\n",
      "+ 1.0 * ( -_11 +_15 )\n",
      "+ -1.0 * ( +_7 -_15 )\n",
      "+ 1.0 * ( -_7 +_15 )\n",
      "+ 0.0 * ( +_1 -_1 )\n",
      "+ 0.0 * ( +_3 -_3 )\n",
      "+ 0.0 * ( +_5 -_5 )\n",
      "+ 0.0 * ( +_7 -_7 )\n",
      "+ 0.0 * ( +_9 -_9 )\n",
      "+ 0.0 * ( +_11 -_11 )\n",
      "+ 0.0 * ( +_13 -_13 )\n",
      "+ 0.0 * ( +_15 -_15 )\n",
      "+ 5.0 * ( +_0 -_0 +_1 -_1 )\n",
      "+ 5.0 * ( +_2 -_2 +_3 -_3 )\n",
      "+ 5.0 * ( +_4 -_4 +_5 -_5 )\n",
      "+ 5.0 * ( +_6 -_6 +_7 -_7 )\n",
      "+ 5.0 * ( +_8 -_8 +_9 -_9 )\n",
      "+ 5.0 * ( +_10 -_10 +_11 -_11 )\n",
      "+ 5.0 * ( +_12 -_12 +_13 -_13 )\n",
      "+ 5.0 * ( +_14 -_14 +_15 -_15 )\n"
     ]
    }
   ],
   "source": [
    "t = -1.0  # the interaction parameter\n",
    "v = 0.0  # the onsite potential\n",
    "u = 5.0\n",
    "\n",
    "###\n",
    "### Second Quantized Hamiltonian (Fermi-Hubbard model)\n",
    "###\n",
    "square_lattice = SquareLattice(rows=3, cols=2, boundary_condition=BoundaryCondition.PERIODIC)\n",
    "\n",
    "fhm_square = FermiHubbardModel(\n",
    "    square_lattice.uniform_parameters(\n",
    "        uniform_interaction=t,\n",
    "        uniform_onsite_potential=v,\n",
    "    ),\n",
    "    onsite_interaction=u,\n",
    ")\n",
    "\n",
    "size = (2, 2, 2)\n",
    "boundary_condition = (\n",
    "    BoundaryCondition.PERIODIC,\n",
    "    BoundaryCondition.PERIODIC,\n",
    "    BoundaryCondition.PERIODIC,\n",
    ")\n",
    "cubic_lattice = HyperCubicLattice(size=size, boundary_condition=boundary_condition)\n",
    "\n",
    "QiskitNatureSettings.use_pauli_sum_op = False\n",
    "\n",
    "fhm_cubic = FermiHubbardModel(\n",
    "    cubic_lattice.uniform_parameters(\n",
    "        uniform_interaction=t,\n",
    "        uniform_onsite_potential=v,\n",
    "    ),\n",
    "    onsite_interaction=u,\n",
    ")\n",
    "\n",
    "ham = fhm_cubic.second_q_op()\n",
    "print(ham)"
   ]
  },
  {
   "cell_type": "markdown",
   "metadata": {},
   "source": [
    "To obtain the Hamiltonian in terms of the fermionic operators, we use `second_q_ops` method.\n",
    "The Hamiltonian is returned as an instance of `FermionicOp`."
   ]
  },
  {
   "cell_type": "markdown",
   "metadata": {},
   "source": [
    "- Note\n",
    "    - The number of fermionic operators required is twice the number of lattice sites because of the spin degrees of freedom.\n",
    "    - In the implementation, even indexes correspond to up-spin and odd indexes to down-spin."
   ]
  },
  {
   "cell_type": "code",
   "execution_count": 3,
   "metadata": {
    "ExecuteTime": {
     "end_time": "2023-06-20T13:33:59.564490036Z",
     "start_time": "2023-06-20T13:33:59.512754690Z"
    }
   },
   "outputs": [
    {
     "name": "stdout",
     "output_type": "stream",
     "text": [
      "Fermionic Operator\n",
      "number spin orbitals=16, number terms=56\n",
      "  (-1+0j) * ( +_0 -_2 )\n",
      "+ (1+0j) * ( -_0 +_2 )\n",
      "+ (-1+0j) * ( +_0 -_4 )\n",
      "+ (1+0j) * ( -_0 +_4 )\n",
      "+ (-1+0j) * ( +_0 -_8 )\n",
      "+ (1+0j) * ( -_0 +_8 )\n",
      "+ (-1+0j) * ( +_8 -_10 )\n",
      "+ (1+0j) * ( -_8 +_10 )\n",
      "+ (-1+0j) * ( +_8 -_12 )\n",
      "+ (1+0j) * ( -_8 +_12 )\n",
      "+ (-1+0j) * ( +_4 -_6 )\n",
      "+ (1+0j) * ( -_4 +_6 )\n",
      "+ (-1+0j) * ( +_4 -_12 )\n",
      "+ (1+0j) * ( -_4 +_12 )\n",
      "+ (-1+0j) * ( +_12 -_14 )\n",
      "+ (1+0j) * ( -_12 +_14 )\n",
      "+ (-1+0j) * ( +_2 -_6 )\n",
      "+ (1+0j) * ( -_2 +_6 )\n",
      "+ (-1+0j) * ( +_2 -_10 )\n",
      "+ (1+0j) * ( -_2 +_10 )\n",
      "+ (-1+0j) * ( +_10 -_14 )\n",
      "+ (1+0j) * ( -_10 +_14 )\n",
      "+ (-1+0j) * ( +_6 -_14 )\n",
      "+ (1+0j) * ( -_6 +_14 )\n",
      "+ (-1+0j) * ( +_1 -_3 )\n",
      "+ (1+0j) * ( -_1 +_3 )\n",
      "+ (-1+0j) * ( +_1 -_5 )\n",
      "+ (1+0j) * ( -_1 +_5 )\n",
      "+ (-1+0j) * ( +_1 -_9 )\n",
      "+ (1+0j) * ( -_1 +_9 )\n",
      "+ (-1+0j) * ( +_9 -_11 )\n",
      "+ (1+0j) * ( -_9 +_11 )\n",
      "+ (-1+0j) * ( +_9 -_13 )\n",
      "+ (1+0j) * ( -_9 +_13 )\n",
      "+ (-1+0j) * ( +_5 -_7 )\n",
      "+ (1+0j) * ( -_5 +_7 )\n",
      "+ (-1+0j) * ( +_5 -_13 )\n",
      "+ (1+0j) * ( -_5 +_13 )\n",
      "+ (-1+0j) * ( +_13 -_15 )\n",
      "+ (1+0j) * ( -_13 +_15 )\n",
      "+ (-1+0j) * ( +_3 -_7 )\n",
      "+ (1+0j) * ( -_3 +_7 )\n",
      "+ (-1+0j) * ( +_3 -_11 )\n",
      "+ (1+0j) * ( -_3 +_11 )\n",
      "+ (-1+0j) * ( +_11 -_15 )\n",
      "+ (1+0j) * ( -_11 +_15 )\n",
      "+ (-1+0j) * ( +_7 -_15 )\n",
      "+ (1+0j) * ( -_7 +_15 )\n",
      "+ (5+0j) * ( +_0 -_0 +_1 -_1 )\n",
      "+ (5+0j) * ( +_2 -_2 +_3 -_3 )\n",
      "+ (5+0j) * ( +_4 -_4 +_5 -_5 )\n",
      "+ (5+0j) * ( +_6 -_6 +_7 -_7 )\n",
      "+ (5+0j) * ( +_8 -_8 +_9 -_9 )\n",
      "+ (5+0j) * ( +_10 -_10 +_11 -_11 )\n",
      "+ (5+0j) * ( +_12 -_12 +_13 -_13 )\n",
      "+ (5+0j) * ( +_14 -_14 +_15 -_15 )\n"
     ]
    }
   ],
   "source": [
    "ham = fhm_cubic.second_q_op().simplify()\n",
    "print(ham)"
   ]
  },
  {
   "cell_type": "markdown",
   "source": [
    "Now we embed the Hamiltonian to the Quantum Computer"
   ],
   "metadata": {
    "collapsed": false
   }
  },
  {
   "cell_type": "code",
   "execution_count": 4,
   "outputs": [
    {
     "name": "stdout",
     "output_type": "stream",
     "text": [
      "SparsePauliOp(['IIIIIIIIIIIIIYZY', 'IIIIIIIIIIIIIXZX', 'IIIIIIIIIIIYZZZY', 'IIIIIIIIIIIXZZZX', 'IIIIIIIYZZZZZZZY', 'IIIIIIIXZZZZZZZX', 'IIIIIYZYIIIIIIII', 'IIIIIXZXIIIIIIII', 'IIIYZZZYIIIIIIII', 'IIIXZZZXIIIIIIII', 'IIIIIIIIIYZYIIII', 'IIIIIIIIIXZXIIII', 'IIIYZZZZZZZYIIII', 'IIIXZZZZZZZXIIII', 'IYZYIIIIIIIIIIII', 'IXZXIIIIIIIIIIII', 'IIIIIIIIIYZZZYII', 'IIIIIIIIIXZZZXII', 'IIIIIYZZZZZZZYII', 'IIIIIXZZZZZZZXII', 'IYZZZYIIIIIIIIII', 'IXZZZXIIIIIIIIII', 'IYZZZZZZZYIIIIII', 'IXZZZZZZZXIIIIII', 'IIIIIIIIIIIIYZYI', 'IIIIIIIIIIIIXZXI', 'IIIIIIIIIIYZZZYI', 'IIIIIIIIIIXZZZXI', 'IIIIIIYZZZZZZZYI', 'IIIIIIXZZZZZZZXI', 'IIIIYZYIIIIIIIII', 'IIIIXZXIIIIIIIII', 'IIYZZZYIIIIIIIII', 'IIXZZZXIIIIIIIII', 'IIIIIIIIYZYIIIII', 'IIIIIIIIXZXIIIII', 'IIYZZZZZZZYIIIII', 'IIXZZZZZZZXIIIII', 'YZYIIIIIIIIIIIII', 'XZXIIIIIIIIIIIII', 'IIIIIIIIYZZZYIII', 'IIIIIIIIXZZZXIII', 'IIIIYZZZZZZZYIII', 'IIIIXZZZZZZZXIII', 'YZZZYIIIIIIIIIII', 'XZZZXIIIIIIIIIII', 'YZZZZZZZYIIIIIII', 'XZZZZZZZXIIIIIII', 'IIIIIIIIIIIIIIII', 'IIIIIIIIIIIIIIZI', 'IIIIIIIIIIIIIIIZ', 'IIIIIIIIIIIIIIZZ', 'IIIIIIIIIIIIZIII', 'IIIIIIIIIIIIIZII', 'IIIIIIIIIIIIZZII', 'IIIIIIIIIIZIIIII', 'IIIIIIIIIIIZIIII', 'IIIIIIIIIIZZIIII', 'IIIIIIIIZIIIIIII', 'IIIIIIIIIZIIIIII', 'IIIIIIIIZZIIIIII', 'IIIIIIZIIIIIIIII', 'IIIIIIIZIIIIIIII', 'IIIIIIZZIIIIIIII', 'IIIIZIIIIIIIIIII', 'IIIIIZIIIIIIIIII', 'IIIIZZIIIIIIIIII', 'IIZIIIIIIIIIIIII', 'IIIZIIIIIIIIIIII', 'IIZZIIIIIIIIIIII', 'ZIIIIIIIIIIIIIII', 'IZIIIIIIIIIIIIII', 'ZZIIIIIIIIIIIIII'],\n",
      "              coeffs=[-0.5 +0.j, -0.5 +0.j, -0.5 +0.j, -0.5 +0.j, -0.5 +0.j, -0.5 +0.j,\n",
      " -0.5 +0.j, -0.5 +0.j, -0.5 +0.j, -0.5 +0.j, -0.5 +0.j, -0.5 +0.j,\n",
      " -0.5 +0.j, -0.5 +0.j, -0.5 +0.j, -0.5 +0.j, -0.5 +0.j, -0.5 +0.j,\n",
      " -0.5 +0.j, -0.5 +0.j, -0.5 +0.j, -0.5 +0.j, -0.5 +0.j, -0.5 +0.j,\n",
      " -0.5 +0.j, -0.5 +0.j, -0.5 +0.j, -0.5 +0.j, -0.5 +0.j, -0.5 +0.j,\n",
      " -0.5 +0.j, -0.5 +0.j, -0.5 +0.j, -0.5 +0.j, -0.5 +0.j, -0.5 +0.j,\n",
      " -0.5 +0.j, -0.5 +0.j, -0.5 +0.j, -0.5 +0.j, -0.5 +0.j, -0.5 +0.j,\n",
      " -0.5 +0.j, -0.5 +0.j, -0.5 +0.j, -0.5 +0.j, -0.5 +0.j, -0.5 +0.j,\n",
      " 10.  +0.j, -1.25+0.j, -1.25+0.j,  1.25+0.j, -1.25+0.j, -1.25+0.j,\n",
      "  1.25+0.j, -1.25+0.j, -1.25+0.j,  1.25+0.j, -1.25+0.j, -1.25+0.j,\n",
      "  1.25+0.j, -1.25+0.j, -1.25+0.j,  1.25+0.j, -1.25+0.j, -1.25+0.j,\n",
      "  1.25+0.j, -1.25+0.j, -1.25+0.j,  1.25+0.j, -1.25+0.j, -1.25+0.j,\n",
      "  1.25+0.j])\n"
     ]
    }
   ],
   "source": [
    "lmp = LatticeModelProblem(fhm_cubic)\n",
    "\n",
    "hamiltonian_jw = JordanWignerMapper().map(ham)\n",
    "# print(np.count_nonzero(hamiltonian_jw - np.diag(np.diagonal(hamiltonian_jw)))\n",
    "print(hamiltonian_jw)"
   ],
   "metadata": {
    "collapsed": false,
    "ExecuteTime": {
     "end_time": "2023-06-20T13:33:59.627551558Z",
     "start_time": "2023-06-20T13:33:59.532945860Z"
    }
   }
  },
  {
   "cell_type": "markdown",
   "source": [
    "Classical solver"
   ],
   "metadata": {
    "collapsed": false
   }
  },
  {
   "cell_type": "code",
   "execution_count": 5,
   "outputs": [
    {
     "name": "stderr",
     "output_type": "stream",
     "text": [
      "/tmp/ipykernel_6679/577020191.py:1: DeprecationWarning: The class ``qiskit.algorithms.minimum_eigen_solvers.numpy_minimum_eigen_solver.NumPyMinimumEigensolver`` is deprecated as of qiskit-terra 0.24.0. It will be removed no earlier than 3 months after the release date. Instead, use the class ``qiskit.algorithms.minimum_eigensolvers.NumPyMinimumEigensolver``. See https://qisk.it/algo_migration for a migration guide.\n",
      "  numpy_solver = NumPyMinimumEigensolver()\n",
      "/tmp/ipykernel_6679/577020191.py:2: DeprecationWarning: The class ``qiskit.opflow.primitive_ops.pauli_sum_op.PauliSumOp`` is deprecated as of qiskit-terra 0.24.0. It will be removed no earlier than 3 months after the release date. For code migration guidelines, visit https://qisk.it/opflow_migration.\n",
      "  result = numpy_solver.compute_minimum_eigenvalue(operator=PauliSumOp(hamiltonian_jw))\n"
     ]
    },
    {
     "name": "stdout",
     "output_type": "stream",
     "text": [
      "Reference value: -7.41412\n"
     ]
    }
   ],
   "source": [
    "numpy_solver = NumPyMinimumEigensolver()\n",
    "result = numpy_solver.compute_minimum_eigenvalue(operator=PauliSumOp(hamiltonian_jw))\n",
    "ref_value = result.eigenvalue.real\n",
    "print(f\"Reference value: {ref_value:.5f}\")"
   ],
   "metadata": {
    "collapsed": false,
    "ExecuteTime": {
     "end_time": "2023-06-20T13:34:01.131391442Z",
     "start_time": "2023-06-20T13:33:59.598926684Z"
    }
   }
  },
  {
   "cell_type": "markdown",
   "source": [
    "VQE See Peruzzo, A., et al, “A variational eigenvalue solver on a quantum processor” arXiv:1304.3061"
   ],
   "metadata": {
    "collapsed": false
   }
  },
  {
   "cell_type": "code",
   "execution_count": 6,
   "outputs": [
    {
     "name": "stdout",
     "output_type": "stream",
     "text": [
      "VQE on Aer qasm simulator (no noise): -0.09570\n",
      "Delta from reference energy value is 7.31842\n"
     ]
    },
    {
     "data": {
      "text/plain": "<Figure size 640x480 with 1 Axes>",
      "image/png": "[encoded data removed]"
     },
     "metadata": {},
     "output_type": "display_data"
    }
   ],
   "source": [
    "iterations = 125\n",
    "ansatz = TwoLocal(rotation_blocks=\"ry\", entanglement_blocks=\"cz\")\n",
    "spsa = SPSA(maxiter=iterations)\n",
    "counts = []\n",
    "values = []\n",
    "\n",
    "\n",
    "def store_intermediate_result(eval_count, parameters, mean, std):\n",
    "    counts.append(eval_count)\n",
    "    values.append(mean)\n",
    "\n",
    "\n",
    "seed = 170\n",
    "algorithm_globals.random_seed = seed\n",
    "\n",
    "noiseless_estimator = AerEstimator(\n",
    "    run_options={\"seed\": seed, \"shots\": 1024},\n",
    "    transpile_options={\"seed_transpiler\": seed},\n",
    "    backend_options={\"method\": \"automatic\"}\n",
    "\n",
    ")\n",
    "\n",
    "vqe = VQE(\n",
    "    noiseless_estimator, ansatz, optimizer=spsa, callback=store_intermediate_result\n",
    ")\n",
    "result = vqe.compute_minimum_eigenvalue(operator=hamiltonian_jw)\n",
    "\n",
    "print(f\"VQE on Aer qasm simulator (no noise): {result.eigenvalue.real:.5f}\")\n",
    "print(\n",
    "    f\"Delta from reference energy value is {(result.eigenvalue.real - ref_value):.5f}\"\n",
    ")\n",
    "import matplotlib.pyplot as plt\n",
    "\n",
    "plt.plot(counts, values)\n",
    "plt.xlabel(\"Eval count\")\n",
    "plt.ylabel(\"Energy\")\n",
    "plt.title(\"Convergence with no noise\")\n",
    "\n",
    "plt.show()"
   ],
   "metadata": {
    "collapsed": false,
    "ExecuteTime": {
     "end_time": "2023-06-20T13:36:19.147588972Z",
     "start_time": "2023-06-20T13:34:01.131992052Z"
    }
   }
  },
  {
   "cell_type": "markdown",
   "source": [
    "Reconstruct the state\n"
   ],
   "metadata": {
    "collapsed": false
   }
  },
  {
   "cell_type": "code",
   "execution_count": 7,
   "outputs": [
    {
     "data": {
      "text/plain": "<Figure size 891.005x1371.22 with 1 Axes>",
      "image/png": "[encoded data removed]"
     },
     "execution_count": 7,
     "metadata": {},
     "output_type": "execute_result"
    }
   ],
   "source": [
    "result.optimal_circuit.draw(output='mpl')"
   ],
   "metadata": {
    "collapsed": false,
    "ExecuteTime": {
     "end_time": "2023-06-20T13:36:19.397633977Z",
     "start_time": "2023-06-20T13:36:19.087081634Z"
    }
   }
  },
  {
   "cell_type": "markdown",
   "source": [
    "Send the optimized circuit to pennylane"
   ],
   "metadata": {
    "collapsed": false
   }
  },
  {
   "cell_type": "code",
   "execution_count": 8,
   "outputs": [],
   "source": [
    "import pennylane as qml\n",
    "import pennylane.numpy as np\n",
    "import matplotlib.pyplot as plt\n",
    "import time"
   ],
   "metadata": {
    "collapsed": false,
    "ExecuteTime": {
     "end_time": "2023-06-20T13:36:19.554139807Z",
     "start_time": "2023-06-20T13:36:19.399377688Z"
    }
   }
  },
  {
   "cell_type": "code",
   "execution_count": null,
   "outputs": [],
   "source": [
    "tomography_circuit=qml.from_qiskit(result.optimal_circuit)"
   ],
   "metadata": {
    "collapsed": false
   }
  },
  {
   "cell_type": "markdown",
   "source": [
    "A classical shadow is a collection of $N$ individual snapshots $\\hat \\rho _i$  . Each snapshot is obtained with the following procedure:\n",
    "1. The quantum state ρ\n",
    "\n",
    "is prepared with a circuit.\n",
    "\n",
    "A unitary U\n",
    "is randomly selected from the ensemble and applied to ρ\n",
    "\n",
    ".\n",
    "\n",
    "A computational basis measurement is performed.\n",
    "\n",
    "The snapshot is recorded as the observed eigenvalue 1,−1\n",
    "for |0⟩,|1⟩, respectively, and the index of the randomly selected unitary U\n",
    "\n",
    "    .\n",
    "\n",
    "To obtain a classical shadow using PennyLane, we design the calculate_classical_shadow function below. This function obtains a classical shadow for the state prepared by an input circuit_template."
   ],
   "metadata": {
    "collapsed": false
   }
  },
  {
   "cell_type": "code",
   "execution_count": null,
   "outputs": [],
   "source": [
    "def calculate_classical_shadow(circuit_template, params, shadow_size, num_qubits):\n",
    "    \"\"\"\n",
    "    Given a circuit, creates a collection of snapshots consisting of a bit string\n",
    "    and the index of a unitary operation.\n",
    "\n",
    "    Args:\n",
    "        circuit_template (function): A Pennylane QNode.\n",
    "        params (array): Circuit parameters.\n",
    "        shadow_size (int): The number of snapshots in the shadow.\n",
    "        num_qubits (int): The number of qubits in the circuit.\n",
    "\n",
    "    Returns:\n",
    "        Tuple of two numpy arrays. The first array contains measurement outcomes (-1, 1)\n",
    "        while the second array contains the index for the sampled Pauli's (0,1,2=X,Y,Z).\n",
    "        Each row of the arrays corresponds to a distinct snapshot or sample while each\n",
    "        column corresponds to a different qubit.\n",
    "    \"\"\"\n",
    "    # applying the single-qubit Clifford circuit is equivalent to measuring a Pauli\n",
    "    unitary_ensemble = [qml.PauliX, qml.PauliY, qml.PauliZ]\n",
    "\n",
    "    # sample random Pauli measurements uniformly, where 0,1,2 = X,Y,Z\n",
    "    unitary_ids = np.random.randint(0, 3, size=(shadow_size, num_qubits))\n",
    "    outcomes = np.zeros((shadow_size, num_qubits))\n",
    "\n",
    "    for ns in range(shadow_size):\n",
    "        # for each snapshot, add a random Pauli observable at each location\n",
    "        obs = [unitary_ensemble[int(unitary_ids[ns, i])](i) for i in range(num_qubits)]\n",
    "        outcomes[ns, :] = circuit_template(params, observable=obs)\n",
    "\n",
    "    # combine the computational basis outcomes and the sampled unitaries\n",
    "    return (outcomes, unitary_ids)\n"
   ],
   "metadata": {
    "collapsed": false
   }
  },
  {
   "cell_type": "markdown",
   "source": [
    "Final data"
   ],
   "metadata": {
    "collapsed": false
   }
  },
  {
   "cell_type": "code",
   "execution_count": 9,
   "outputs": [
    {
     "name": "stdout",
     "output_type": "stream",
     "text": [
      "Number of qubits: 16\n",
      "RAM Used (GB): 18.522902528\n"
     ]
    }
   ],
   "source": [
    "print(f'Number of qubits: {hamiltonian_jw.num_qubits}')\n",
    "\n",
    "print('RAM Used (GB):', psutil.virtual_memory()[3] / 1000000000)"
   ],
   "metadata": {
    "collapsed": false,
    "ExecuteTime": {
     "end_time": "2023-06-20T13:36:19.554692458Z",
     "start_time": "2023-06-20T13:36:19.502239278Z"
    }
   }
  }
 ],
 "metadata": {
  "kernelspec": {
   "display_name": "Python 3",
   "language": "python",
   "name": "python3"
  },
  "language_info": {
   "codemirror_mode": {
    "name": "ipython",
    "version": 3
   },
   "file_extension": ".py",
   "mimetype": "text/x-python",
   "name": "python",
   "nbconvert_exporter": "python",
   "pygments_lexer": "ipython3",
   "version": "3.9.16"
  },
  "vscode": {
   "interpreter": {
    "hash": "d4bd6456a0b47d0dd87b9ae107645ad9bf4ec16d9647d052356a2dc29fff80e1"
   }
  }
 },
 "nbformat": 4,
 "nbformat_minor": 4
}
